{
 "cells": [
  {
   "cell_type": "code",
   "execution_count": 1,
   "metadata": {
    "collapsed": true
   },
   "outputs": [],
   "source": [
    "import urllib\n",
    "import json\n",
    "import pandas as pd\n",
    "import base64\n",
    "import numpy as np\n",
    "import random\n",
    "import re, nltk\n",
    "from sklearn.feature_extraction.text import CountVectorizer        \n",
    "from nltk.stem.porter import PorterStemmer\n",
    "from sklearn.linear_model import LogisticRegression\n",
    "from sklearn.cross_validation import train_test_split\n",
    "from sklearn.metrics import classification_report"
   ]
  },
  {
   "cell_type": "code",
   "execution_count": 2,
   "metadata": {
    "collapsed": true
   },
   "outputs": [],
   "source": [
    "def json_numpy_obj_hook(dct):\n",
    "    \"\"\"Decodes a previously encoded numpy ndarray with proper shape and dtype.\n",
    "    :param dct: (dict) json encoded ndarray\n",
    "    :return: (ndarray) if input was an encoded ndarray\n",
    "    \"\"\"\n",
    "    if isinstance(dct, dict) and '__ndarray__' in dct:\n",
    "        data = base64.b64decode(dct['__ndarray__'])\n",
    "        return np.frombuffer(data, dct['dtype']).reshape(dct['shape'])\n",
    "    return dct"
   ]
  },
  {
   "cell_type": "code",
   "execution_count": 3,
   "metadata": {
    "collapsed": false
   },
   "outputs": [],
   "source": [
    "with open('beer_1000.json') as data_file:    \n",
    "    data = json.load(data_file)"
   ]
  },
  {
   "cell_type": "code",
   "execution_count": 29,
   "metadata": {
    "collapsed": false
   },
   "outputs": [],
   "source": [
    "file1 = urllib.urlopen('https://s3.amazonaws.com/stantemptesting/beers_compressed.json')\n",
    "beers_compressed = json.load(file1, object_hook=json_numpy_obj_hook)"
   ]
  },
  {
   "cell_type": "code",
   "execution_count": 34,
   "metadata": {
    "collapsed": false
   },
   "outputs": [],
   "source": [
    "file2 = urllib.urlopen('https://s3.amazonaws.com/stantemptesting/features_compressed.json')\n",
    "features_compressed = json.load(file2, object_hook=json_numpy_obj_hook)"
   ]
  },
  {
   "cell_type": "markdown",
   "metadata": {},
   "source": [
    "#JSON to list"
   ]
  },
  {
   "cell_type": "code",
   "execution_count": 31,
   "metadata": {
    "collapsed": false
   },
   "outputs": [],
   "source": [
    "beer_text_sentiment = []\n",
    "for beer in data:\n",
    "    for review in data[beer]:\n",
    "            beer_text_sentiment.append((beer,review['text'],review['overall']))"
   ]
  },
  {
   "cell_type": "code",
   "execution_count": 51,
   "metadata": {
    "collapsed": false
   },
   "outputs": [],
   "source": [
    "def training_data(beer_input):\n",
    "    random.shuffle(beer_text_sentiment)\n",
    "    training_number = int(len(beer_text_sentiment)*.2)\n",
    "    training_text = beer_text_sentiment[:training_number]\n",
    "    train_data_df = pd.DataFrame(training_text).convert_objects(convert_numeric=True)\n",
    "    train_data_df.columns = [\"Beer\", \"Text\", \"Sentiment\"]\n",
    "    num = train_data_df._get_numeric_data()\n",
    "    num[num <= 3] = 0\n",
    "    num[num > 3] = 1\n",
    "    return train_data_df"
   ]
  },
  {
   "cell_type": "code",
   "execution_count": 41,
   "metadata": {
    "collapsed": true
   },
   "outputs": [],
   "source": [
    "def testing_data(beer_input):\n",
    "    training_number = int(len(beer_text_sentiment)*.2)\n",
    "    testing_text = beer_text_sentiment[training_number:]\n",
    "    test_data_df = pd.DataFrame(testing_text)\n",
    "    test_data_df.columns = [\"Beer\", \"Text\", \"Sentiment\"]\n",
    "    test_data_df = test_data_df.drop('Sentiment', 1)\n",
    "    return test_data_df"
   ]
  },
  {
   "cell_type": "code",
   "execution_count": 52,
   "metadata": {
    "collapsed": false
   },
   "outputs": [],
   "source": [
    "train_data_df = training_data(beer_text_sentiment)\n",
    "test_data_df = testing_data(beer_text_sentiment)"
   ]
  },
  {
   "cell_type": "markdown",
   "metadata": {},
   "source": [
    "#Preparing a corpus\n"
   ]
  },
  {
   "cell_type": "code",
   "execution_count": 15,
   "metadata": {
    "collapsed": true
   },
   "outputs": [],
   "source": [
    "# based on http://www.cs.duke.edu/courses/spring14/compsci290/assignments/lab02.html\n",
    "\n",
    "stemmer = PorterStemmer()\n",
    "def stem_tokens(tokens, stemmer):\n",
    "    stemmed = []\n",
    "    for item in tokens:\n",
    "        stemmed.append(stemmer.stem(item))\n",
    "    return stemmed\n",
    "\n",
    "def tokenize(text):\n",
    "    # remove non letters\n",
    "    text = re.sub(\"[^a-zA-Z]\", \" \", text)\n",
    "    # tokenize\n",
    "    tokens = nltk.word_tokenize(text)\n",
    "    # stem\n",
    "    stems = stem_tokens(tokens, stemmer)\n",
    "    return stems\n",
    "\n",
    "vectorizer = CountVectorizer(\n",
    "    analyzer = 'word',\n",
    "    tokenizer = tokenize,\n",
    "    lowercase = True,\n",
    "    stop_words = 'english',\n",
    "    max_features = 85\n",
    ")"
   ]
  },
  {
   "cell_type": "code",
   "execution_count": 60,
   "metadata": {
    "collapsed": true
   },
   "outputs": [],
   "source": [
    "corpus_data_features = vectorizer.fit_transform(train_data_df.Text.tolist() + test_data_df.Text.tolist())\n",
    "corpus_data_features_nd = corpus_data_features.toarray()\n",
    "vocab = vectorizer.get_feature_names()\n",
    "# Sum up the counts of each vocabulary word\n",
    "dist = np.sum(corpus_data_features_nd, axis=0)"
   ]
  },
  {
   "cell_type": "markdown",
   "metadata": {},
   "source": [
    "#A bag-of-words linear classifier\n",
    "\n"
   ]
  },
  {
   "cell_type": "code",
   "execution_count": 49,
   "metadata": {
    "collapsed": true
   },
   "outputs": [],
   "source": [
    "def bag_of_words_linear_classifier(training_data):\n",
    "    # remember that corpus_data_features_nd contains all of our \n",
    "    # original train and test data, so we need to exclude\n",
    "    # the unlabeled test entries\n",
    "    X_train, X_test, y_train, y_test  = train_test_split(\n",
    "            corpus_data_features_nd[0:len(train_data_df)], \n",
    "            train_data_df.Sentiment,\n",
    "            train_size=0.80, \n",
    "            random_state=1234)\n",
    "    #Now we are ready to train our classifier.\n",
    "    log_model = LogisticRegression()\n",
    "    log_model = log_model.fit(X=X_train, y=y_train)\n",
    "    #Now we use the classifier to label our evaluation set. \n",
    "    #We can use either predict for classes or predict_proba for probabilities.\n",
    "    y_pred = log_model.predict(X_test)\n",
    "    #Finally, we can re-train our model with all the training data and use it for sentiment \n",
    "    #classification with the original (unlabeled) test set.\n",
    "    # train classifier\n",
    "    log_model = LogisticRegression()\n",
    "    log_model = log_model.fit(X=corpus_data_features_nd[0:len(train_data_df)], y=train_data_df.Sentiment)\n",
    "    # get predictions\n",
    "    test_pred = log_model.predict(corpus_data_features_nd[len(train_data_df):])\n",
    "    return test_pred"
   ]
  },
  {
   "cell_type": "code",
   "execution_count": 57,
   "metadata": {
    "collapsed": false
   },
   "outputs": [
    {
     "data": {
      "text/plain": [
       "array([ 1.,  1.,  1., ...,  1.,  1.,  1.])"
      ]
     },
     "execution_count": 57,
     "metadata": {},
     "output_type": "execute_result"
    }
   ],
   "source": [
    "bag_of_words_linear_classifier(train_data_df)"
   ]
  },
  {
   "cell_type": "markdown",
   "metadata": {},
   "source": [
    "#Sample and Print"
   ]
  },
  {
   "cell_type": "code",
   "execution_count": 59,
   "metadata": {
    "collapsed": false,
    "scrolled": true
   },
   "outputs": [
    {
     "name": "stdout",
     "output_type": "stream",
     "text": [
      "1.0 Served from a 750ml bottle poured into a tulip glass Dark brown if not black pour with a tan head that disipates farly quickley leaving a little lacing on the glass. Huge smell of coffee, bitter chocolate, and sweet malts. Great aroma and really inviting. Taste of coffee, chocolate, and malt same as smell but something else like a sweet cigar. After taste leaves the bitter coffee flavor blanketed by the sweetness of the malt. Mouth feel is thin pretty characteristic of BBC's beers which makes this a really drinkable session stout with a lot of flavor. Would be great to see this in 12ozs and distributed to Bowling Green.  \n",
      "0.0 on tap at pike pub in seattle.  pours a clear amber with a small white head, some lacing.  smell of roasted hops and nuts and a little grassy near the end.   taste is a bit different than the normal pale ale, nutty in flavor, slightly creamy, some caramel, not that bitter and slightly sweet.  \n",
      "1.0 This beer is clear, straw colored, with a white head that settles slowly and is leaving nearly no lacing.  The smell is in the hoppy corner, fresh grass, nettles but possibly some boiled vegetables as well.  Some wheat crackers initially, then fresh lime juice and a good bitter finish.  Medium carbonation, small bubbles, soft and refreshing but with a good dry finish.  This was a special 3.5% Swedish version, but actually a very good one.  \n",
      "1.0 Courtesy of Sliffy et al in a visit to Columbus. Pour dark like a porter,not much of a head, a little dot lacing, smells roasty without being over the top. Very smooth drinking porter. Drying aftertaste. Carbonation tingles, its above average, but we are OK with it. Coffee, chocolate malt, anise, a bit of cinammon.  \n",
      "1.0 A: Had this in a bomber I brought back from a trip to Washington. Pours an orangish color with very good sized foamy white head. Good lacing down the glass S: This was kind of interesting, not sure if it was just me but the smell kind of came and went as I was drinking it. Not too overpowering. Smells of biscut, with citrusy hop scent T: Malt is overpowered by very bitter hoppiness. Malt kind of comes and goes as well.  M: Slightly dry finish, medium bodied beer D: Could have a little more maltiness to it, malt is most of the time drounded out by bitter hoppiness.  \n",
      "1.0 Poured into a pint glass at 37 Degrees.  Appearance: A healthy 2 finger foamy, creamy, white head, that has some retention to it. The color of the beer is solid amber with orange, copper orange highlights. The clarity of the beer is clear to brilliant and there is some carbonation.  Nose: Is a mild toasted malt with some caramel, floral, and pine notes.  Taste: Is a moderate hoppy flavor with grapefruit, floral, and pine flavors. The malt is light toasty and slightly yeasty.  Mouth feel: Is crisp and clean.   Overall: The body of the beer is medium light and the finish is medium. This is an ok amber ale except for the malt and the hoppiness are out of balance. It is easy to drink.  \n",
      "1.0 Had this on-tap at the BBC restaurant on Shelbyville.  Came in a small wineglass. Nice ruby red color with a small white head.  Smelled strongly of fruity honey. Nice and sweet.  Great taste! One of the better meads I've had. Sweet, but not tangy. A fantastic aftertaste of wheat.  While a delicious drink, it's kind of hard to have several wines in one sitting for me. Definitely plan on having this again, but I can't see having more than one per sitting.  \n",
      "0.0 Appearance - pours very dark into a Belgian glass. Half finger of mocha head end up at a sparse covering. Active carbonation is seen around the edges, feeding the head.  Aroma - dark roasty coffee/chocolate. Good, deep aromas, how a porter oughtta smell.  Taste - charcoal, burnt coffee beans, a down to business porter. Some mild sweetness and very mild hopping. Ends on a smoky note. I dig it.  Mouthfeel - good weight for the style. Fine feeling all the way around, what a gem!  Drinkability - easily my favorite from BBC. Serious taste, not too heavy, not too high in hooch. Yum.  \n",
      "1.0 22oz into Duvel tulip.  A: Pours smooth and thick. Pitch black, no light shines through. Thin espresso like head that dissipates quickly.  S: Wonderful bourbon smell all throughout. Cocoa & coffee syrup. Spicy hops way in the background.   T: A fine bourbon flavor. Chocolate and oatmeal flavors coming through. Tingly, warming alcohol notes with an almost Irish coffee like essence.  M: Super smooth and creamy full bodied brew. Goes down slick leaving a drying flavorful coating on the back of the palate   D: Super good. I could go for another but after that the alcohol might take over :)  \n",
      "0.0 Picked this bad boy up at Binny's in the South Loop for $9.99. There was a lot of snow on the ground today in Chicago and this brew felt like a good choice.  A: Reddish black. Very dark, oily liquid. Slight ruby highlights on the edges against the light. Even a vigorous pour did not give up much of a head. The cap was a nice creamy bronze, half finger that had a lot of carbonation activity and dissipated very quickly. The small spotty lacing does not stick around.  S: Good solid, earthy, roasty, oaty, malty smell. The alcohol is there but feels like it is embedded in a dominant sherry, dark cherry and coffee.  T: Big roasted malt at first, followed by a swift kick of piney hops. It then falls deeply into a very aggressive sweet tang that contains dark fruit, cocoa, bitter dark chocolate and licorice. Once this exceptionally bold taste dissipates, the aftertaste is a more subdued roasted malt and hop. An interesting profile and warming with the alcohol that feels pretty well masked.  M: Full bodied and smooth stout. Hops and a medium level of carbonation give it a little life.  D: I found it to be pretty drinkable. I can't say that I'll be rushing out for another one of these when I have other favorites that I enjoy more. Piney hops and licorice are two things that don't do it for me. So, it is a nice beer that I would recommend trying but, it wasn't for me.  \n",
      "0.0 Provided by the kind auspices of a ground trade in Cincinatti by brewdlyhooked13. (Check him out if you run to that city.)  Sampled from a 12 oz brown bottle, in my 16 oz San Francisco Strong Ale glass.  Aroma is sweet, fruity and slightly winey with a smell of old grapes with slightly puckered skins. Apples are the dominant fruit of the aroma. As the beer warms, a larger coffee roast starts to round through the edges and appear throgh the rest of the fruit.  The flavor is immediately a blend of hops, apples, rusty apples and hops. But the growing roast character quickly wipes all but the hops off the palate.   Finish is strongly roasted with just a bit of butter in the touch with a long roasted acidic burnt bite that keeps going to the final touch.   Interesting bit of an American porter.  \n",
      "1.0 12oz bottle into a snifter.  Pours a nearly opaque black with a small coffee colored head that quickly recedes to nothing at all.  Smell is not bold in the least. Some chocolatey notes and sadly no bourbon.  Taste is just as bland. Not bad, but I got some weak bourbon and some malty chocolate with neither jumping out at me.  Mouthfeel is a bit too thin for my liking.  All that said, this is quite easy drinking. Thin for a stout and the abv is not noticable in the least. While I didn't love it, I did finish it much sooner than I thought I would.  \n",
      "1.0 Poured from a 22 oz. brown bomber into a Sam Adams pint glass. A: A lovely, glowing amber-copper color. A mildly vigorous pour yields an inch of bubbly but smooth off-white head that does stick around for a bit, despite being so thin. Plenty of carbonation visible, rising hastily from the bottom of the glass. S: Great citrusy hop scent fills the nose and stays there. Hint of some sugars and more grassy/floral smells too. Mostly, just a citrus hop bomb assault on the nostrils, in a good way. Might seem pretty one-dimensional to some, but this is just what I'm looking for in a big IPA. Perhaps a noticeable alcohol scent at first, but this seems to tone down as the beer warms. T: A nice tingly citrus taste at first, quite hoppy and fresh. There's more of a malt presence in the midtaste, but not too sweet. This fades pretty quickly, and the hoppiness comes back in full force in the finish, leaving a lip-smacking bitterness lingering in the mouth. Overall, a nice hop character with a tiny amount of malt backbone. Perhaps not a perfect 50-50 balance, but again, this is what I like in big IPAs. M: Generally pretty good, but kinda dry in the finish, and with a noticeable alcohol warmth in the throat. D: Not too bad. I'm enjoying this bomber's worth of beer, but I don't think I could handle any more. The 8+ % ABV is reasonable, but I can really taste and feel the alcohol in the finish.  \n",
      "1.0 Poured from a 12 oz can to a pint glass, the liquid is i nice gold with good carbonation. The head is almost 2 fingers off white and leaves good lace.  The smell is earthy hops, plenty bitter for the stlye.  The taste is mildly bitter, and has a good malt back bone.  The mouthfeel is very good, I like the better then medium body as well as the level of carbonation.  The drinkability is good really worth a try. Prosit, MK  \n",
      "0.0 Strong aroma is yeasty with fruity and butterscotch notes and just a hint of - soap? Floral? Rather tempting whatever! It pours a clear solar yellow with a thick, fluffy and rather persistent white head. Yeasty flavor has fruity and floral notes, the former mainly pear, and hints of malt, butterscotch and herbs or grass. Ah, it has spices? They are a bit on the subtle side, then, unless that is the source of the herbal note. Texture is smooth with above-average body and just a little fizziness plus some soapy slipperiness. Overall, very satisfying.  \n"
     ]
    }
   ],
   "source": [
    "# sample some of them\n",
    "spl = random.sample(xrange(len(test_pred)), 15)\n",
    "# print text and labels\n",
    "for text, sentiment in zip(test_data_df.Text[spl], test_pred[spl]):\n",
    "    print sentiment, text"
   ]
  }
 ],
 "metadata": {
  "kernelspec": {
   "display_name": "Python 2",
   "language": "python",
   "name": "python2"
  },
  "language_info": {
   "codemirror_mode": {
    "name": "ipython",
    "version": 2
   },
   "file_extension": ".py",
   "mimetype": "text/x-python",
   "name": "python",
   "nbconvert_exporter": "python",
   "pygments_lexer": "ipython2",
   "version": "2.7.10"
  }
 },
 "nbformat": 4,
 "nbformat_minor": 0
}
