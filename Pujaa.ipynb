{
 "cells": [
  {
   "cell_type": "code",
   "execution_count": 1,
   "metadata": {
    "collapsed": true
   },
   "outputs": [],
   "source": [
    "import urllib\n",
    "import json\n",
    "import pandas as pd\n",
    "import base64\n",
    "import numpy as np"
   ]
  },
  {
   "cell_type": "code",
   "execution_count": 21,
   "metadata": {
    "collapsed": false
   },
   "outputs": [
    {
     "data": {
      "application/javascript": [
       "require.config({\n",
       "    paths: {\n",
       "        d3: '//cdnjs.cloudflare.com/ajax/libs/d3/3.4.8/d3.min'\n",
       "    }\n",
       "});"
      ],
      "text/plain": [
       "<IPython.core.display.Javascript object>"
      ]
     },
     "metadata": {},
     "output_type": "display_data"
    }
   ],
   "source": [
    "%%javascript\n",
    "require.config({\n",
    "    paths: {\n",
    "        d3: '//cdnjs.cloudflare.com/ajax/libs/d3/3.4.8/d3.min'\n",
    "    }\n",
    "});"
   ]
  },
  {
   "cell_type": "code",
   "execution_count": 2,
   "metadata": {
    "collapsed": true
   },
   "outputs": [],
   "source": [
    "def json_numpy_obj_hook(dct):\n",
    "    \"\"\"Decodes a previously encoded numpy ndarray with proper shape and dtype.\n",
    "    :param dct: (dict) json encoded ndarray\n",
    "    :return: (ndarray) if input was an encoded ndarray\n",
    "    \"\"\"\n",
    "    if isinstance(dct, dict) and '__ndarray__' in dct:\n",
    "        data = base64.b64decode(dct['__ndarray__'])\n",
    "        return np.frombuffer(data, dct['dtype']).reshape(dct['shape'])\n",
    "    return dct"
   ]
  },
  {
   "cell_type": "code",
   "execution_count": null,
   "metadata": {
    "collapsed": false,
    "scrolled": true
   },
   "outputs": [],
   "source": [
    "url = urllib.urlopen('https://s3.amazonaws.com/stantemptesting/doc_voc_matrix.json')\n",
    "doc_by_voc = json.load(url, object_hook=json_numpy_obj_hook)\n",
    "#columns are beers\n",
    "#rows are tfidfs of words"
   ]
  },
  {
   "cell_type": "code",
   "execution_count": 3,
   "metadata": {
    "collapsed": false
   },
   "outputs": [],
   "source": [
    "url2 = urllib.urlopen('https://s3.amazonaws.com/stantemptesting/beers_compressed.json')\n",
    "beer_compressed = json.load(url2, object_hook=json_numpy_obj_hook)\n",
    "#50000x100\n",
    "#beers by dense matrix of tfidts\n",
    "# rows are beers\n",
    "#cols are dense vectors of tfidfs"
   ]
  },
  {
   "cell_type": "code",
   "execution_count": 6,
   "metadata": {
    "collapsed": false
   },
   "outputs": [],
   "source": [
    "file1 = urllib.urlopen('https://s3.amazonaws.com/stantemptesting/beer_name_to_index.json')\n",
    "beer_name_to_index = json.load(file1)"
   ]
  },
  {
   "cell_type": "code",
   "execution_count": 7,
   "metadata": {
    "collapsed": true
   },
   "outputs": [],
   "source": [
    "file2 = urllib.urlopen('https://s3.amazonaws.com/stantemptesting/beer_index_to_name.json')\n",
    "beer_index_to_name = json.load(file2)"
   ]
  },
  {
   "cell_type": "code",
   "execution_count": 8,
   "metadata": {
    "collapsed": true
   },
   "outputs": [],
   "source": [
    "file3 = urllib.urlopen('https://s3.amazonaws.com/stantemptesting/beers_compressed.json')\n",
    "beers_compressed = json.load(file3, object_hook=json_numpy_obj_hook)\n",
    "#beers go left to right\n",
    "#weights"
   ]
  },
  {
   "cell_type": "code",
   "execution_count": 9,
   "metadata": {
    "collapsed": true
   },
   "outputs": [],
   "source": [
    "file4 = urllib.urlopen('https://s3.amazonaws.com/stantemptesting/features_compressed.json')\n",
    "features_compressed = json.load(file4, object_hook=json_numpy_obj_hook)\n",
    "#100 by 4000\n",
    "#weights\n",
    "#features go left to right"
   ]
  },
  {
   "cell_type": "code",
   "execution_count": 18,
   "metadata": {
    "collapsed": false
   },
   "outputs": [],
   "source": [
    "with open('beer_1000.json') as data_file:    \n",
    "    data = json.load(data_file)"
   ]
  },
  {
   "cell_type": "code",
   "execution_count": 22,
   "metadata": {
    "collapsed": false
   },
   "outputs": [
    {
     "data": {
      "text/plain": [
       "1001"
      ]
     },
     "execution_count": 22,
     "metadata": {},
     "output_type": "execute_result"
    }
   ],
   "source": [
    "len(data)"
   ]
  },
  {
   "cell_type": "code",
   "execution_count": 20,
   "metadata": {
    "collapsed": false,
    "scrolled": false
   },
   "outputs": [
    {
     "data": {
      "text/plain": [
       "[{u'ABV': u'4.75',\n",
       "  u'appearance': u'4',\n",
       "  u'aroma': u'1.5',\n",
       "  u'beerId': u'12421',\n",
       "  u'brewerId': u'936',\n",
       "  u'overall': u'2',\n",
       "  u'palate': u'3.5',\n",
       "  u'style': u'American Amber / Red Ale',\n",
       "  u'taste': u'1',\n",
       "  u'text': u\"This is my second review on here, the other one for Alaskan Summer Ale, which has turned out to be one of my favorites.   This, however, is an exception. I really, TRULY feel there is a general bias on here towards 'colored' beers, i.e., its not often that a decent light-colored beer gets shown any love, even if it's really quite good. This is irritating.   Case in point, this turd-in-a-bottle. This beer is awful. I mean, really. The only thing I can taste is the soot from my barbecue grill. This is pathetic. Really, this is an awful, crappy beer, and you people should be ashamed of yourselves preferring this over something like Sapporo, which I've actually had in the same night (w/ sushi), and which was FAAAAR preferable. Seriously, I can't seen how on earth something like this has a higher rating on BA. It makes absolutely no sense.   I agree that Adventinus totally rocks, that Chimay Grande Reserve is an absolute treat. I know beer. And this beer sucks. This beers sucks... A LOT. Really all you can taste is burnt carbon life forms. This is a terrible beer, in virtually ever respect but appearance, which is a cloudy ruby amber, and belies the awfulness of what's to come.   AVOID.   God... I'm not finished yet. This is really bad. I mean, it's rare that I have something like a Miller Chill (a thoroughly despicable abortion of a beer) and am actually less affronted by the taste of that than that of this abomination.   OK, now I'm finished. I feel better now. Well, not much better, because I still have about 14 oz. of this crap left, but I needed to get that out. Thanks for listening, and please head my warning, if you live in the Pac NW.  \",\n",
       "  u'time': u'1218098512'},\n",
       " {u'ABV': u'4.75',\n",
       "  u'appearance': u'4',\n",
       "  u'aroma': u'2',\n",
       "  u'beerId': u'12421',\n",
       "  u'brewerId': u'936',\n",
       "  u'overall': u'4.5',\n",
       "  u'palate': u'4',\n",
       "  u'style': u'American Amber / Red Ale',\n",
       "  u'taste': u'3',\n",
       "  u'text': u'Pours a nice amber with hints of red. Smell was minimal, what I could smell was bread like. Taste was not bad, balanced ok, but nothing exceptional. MF was good, full bodied, with good carbonation and a clean finish. Very drinkable, and would be a great session brew. But not very memorable.  ',\n",
       "  u'time': u'1199765404'},\n",
       " {u'ABV': u'4.75',\n",
       "  u'appearance': u'3.5',\n",
       "  u'aroma': u'4',\n",
       "  u'beerId': u'12421',\n",
       "  u'brewerId': u'936',\n",
       "  u'overall': u'3.5',\n",
       "  u'palate': u'3',\n",
       "  u'style': u'American Amber / Red Ale',\n",
       "  u'taste': u'4',\n",
       "  u'text': u'I was very skeptical at first...i usually dont like amber beers...they usually lack and real flavor. However, this beer was probably the best amber beer I have ever had. Great deep red color, little head however. The taste was very hoppy for an amber and very easy to drink.  ',\n",
       "  u'time': u'1196981405'},\n",
       " {u'ABV': u'4.75',\n",
       "  u'appearance': u'3.5',\n",
       "  u'aroma': u'3.5',\n",
       "  u'beerId': u'12421',\n",
       "  u'brewerId': u'936',\n",
       "  u'overall': u'4',\n",
       "  u'palate': u'4',\n",
       "  u'style': u'American Amber / Red Ale',\n",
       "  u'taste': u'3.5',\n",
       "  u'text': u'Poured from the 22oz bottle into a pint glass. Body is a slightly cloudy golden orange color, topped by a small ring of creamy white head. Aroma is nicely balanced between sweet caramel and pale malts and nicely bitter hops, with some tropical fruit notes mixed in. Palate is light and sweet up front, with the hoppy bitterness emerging mid-palate. Mild fruity notes come through on the finish, leaving a lingering mellow sweetness. Body is smooth and a bit creamy, pretty nice. An easily drinkable amber ale.  ',\n",
       "  u'time': u'1191652425'},\n",
       " {u'ABV': u'4.75',\n",
       "  u'appearance': u'3.5',\n",
       "  u'aroma': u'3.5',\n",
       "  u'beerId': u'12421',\n",
       "  u'brewerId': u'936',\n",
       "  u'overall': u'3',\n",
       "  u'palate': u'3',\n",
       "  u'style': u'American Amber / Red Ale',\n",
       "  u'taste': u'3',\n",
       "  u'text': u'A very bready aroma sets the pace but quickly fades taking the head with it. The taste washes a modest caramel sweetness across the palate trailing a brief bittering compliment in its wake. The color is well, take a guess.  Ive had this beer before. Many times in many places. Pleasant and routine.  ',\n",
       "  u'time': u'1189445743'},\n",
       " {u'ABV': u'4.75',\n",
       "  u'appearance': u'4',\n",
       "  u'aroma': u'3.5',\n",
       "  u'beerId': u'12421',\n",
       "  u'brewerId': u'936',\n",
       "  u'overall': u'3.5',\n",
       "  u'palate': u'3.5',\n",
       "  u'style': u'American Amber / Red Ale',\n",
       "  u'taste': u'3.5',\n",
       "  u'text': u'Served in a standard pint, this beer is a rusty red with copper highlights.    Nose - My first impression is cascade hops and then caramel. Both could be amped up a bit.   The taste is semisweet caramel and hard candy balanced by a bit of pine. Some very faint toasted malt round out the taste. Not bad, but not fantastic.   This is a balanced beer with crackling carbonation. Not bad but not a serial repeater. Worth a try of you like reds.  ',\n",
       "  u'time': u'1156442494'},\n",
       " {u'ABV': u'4.75',\n",
       "  u'appearance': u'3.5',\n",
       "  u'aroma': u'3.5',\n",
       "  u'beerId': u'12421',\n",
       "  u'brewerId': u'936',\n",
       "  u'overall': u'4',\n",
       "  u'palate': u'3.5',\n",
       "  u'style': u'American Amber / Red Ale',\n",
       "  u'taste': u'4',\n",
       "  u'text': u'I picked up a bomber of Northern Lights Amber Ale at a grocery store to taste, review and enjoy. I poured this beer in to a pint tumbler.   Pours a copper/brown color and is hazy. A thick off-white head forms and is fairly resilient. The head hangs around in some measure to the ed, but does not stick the sides of the glass.  The smell is curious, for an amber, a little fruity with some evergreen scents, and a smell of wet paint (in a good sort of way).   The taste is hoppy with a significant malt presence. The hops are more than you would expect of the style, but the flavors are nicely balanced, and its a good tasting beer.   Mouth feel is crisp and clean.   This is a drinkable beer, but not what one might expect of the style. I think its more of a weak IPA or a red ale than an amber, but its very good just the same. I would certainly have Northern Lights Amber again.  ',\n",
       "  u'time': u'1151279276'},\n",
       " {u'ABV': u'4.75',\n",
       "  u'appearance': u'4',\n",
       "  u'aroma': u'3.5',\n",
       "  u'beerId': u'12421',\n",
       "  u'brewerId': u'936',\n",
       "  u'overall': u'3.5',\n",
       "  u'palate': u'3.5',\n",
       "  u'style': u'American Amber / Red Ale',\n",
       "  u'taste': u'3.5',\n",
       "  u'text': u'Bomber purchased at Huckleberry\\'s in Spokane for $2.79.   Poured an orangey amber color with a medium sized off-white head.Lots of lace dripping down the glass.  Very piney smelling, much more than I expected. This doesn\\'t smell like an \"amber ale.\" This smells like a pale, albeit one with a considerable amount of malt backing.  Tastes like a mild pale ale. Piney hops and mildly sweet malts, with a dry finish.   Mouthfeel is better than I thought it would be. The last two NL beers I had (at the brewpub) were rather thin. Maybe they\\'re just better in the bottle than on tap.  This is not bad to drink at all. It would probably appeal most to people who find NL\\'s Pale too hoppy for a pale (like my brother, who thought he was drinking an IPA). I think it would be more correct to call this a pale, based on how it tastes. Since they already have a pale, I guess they\\'d have to create original names for them to tell them apart, like Full Sail does. I was plesantly surprised by this regardless of the style nitpicks. Lately I\\'ve been unimpressed by this brewery, so I\\'ll take this beer as a good omen for the future.  ',\n",
       "  u'time': u'1083916103'},\n",
       " {u'ABV': u'4.75',\n",
       "  u'appearance': u'4',\n",
       "  u'aroma': u'4',\n",
       "  u'beerId': u'12421',\n",
       "  u'brewerId': u'936',\n",
       "  u'overall': u'4',\n",
       "  u'palate': u'3.5',\n",
       "  u'style': u'American Amber / Red Ale',\n",
       "  u'taste': u'3.5',\n",
       "  u'text': u'Second of the beers I brought back from this Spokane brewery..again a 22 oz brown bomber. Nice dark crystal clear amber in colour with a small off white head..that goes fast but leaves lots of good lacing down the glass. Good fresh hoppy aroma greets my nose..very spicy for an amber..but after a sec I detect the malts. mmm a good malty sweetness on the tongue at first..then a very pleasant though not at all overwhelming hoppiness takes over..well balanced. Nice on the tongue..maybe a little on the \"thin\" side for my tastes but during this hot NW late summer its fine. A very drinkable amber ..maybe a tad on the light side of the spectrum as far as ambers go..but very well crafted.  ',\n",
       "  u'time': u'1062478284'}]"
      ]
     },
     "execution_count": 20,
     "metadata": {},
     "output_type": "execute_result"
    }
   ],
   "source": [
    "data['Amber Ale']"
   ]
  },
  {
   "cell_type": "code",
   "execution_count": null,
   "metadata": {
    "collapsed": true
   },
   "outputs": [],
   "source": []
  }
 ],
 "metadata": {
  "kernelspec": {
   "display_name": "Python 2",
   "language": "python",
   "name": "python2"
  },
  "language_info": {
   "codemirror_mode": {
    "name": "ipython",
    "version": 2
   },
   "file_extension": ".py",
   "mimetype": "text/x-python",
   "name": "python",
   "nbconvert_exporter": "python",
   "pygments_lexer": "ipython2",
   "version": "2.7.10"
  }
 },
 "nbformat": 4,
 "nbformat_minor": 0
}
